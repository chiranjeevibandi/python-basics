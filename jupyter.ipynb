{
 "cells": [
  {
   "cell_type": "code",
   "execution_count": 5,
   "metadata": {},
   "outputs": [],
   "source": [
    "a=91\n",
    "b=9"
   ]
  },
  {
   "cell_type": "code",
   "execution_count": 6,
   "metadata": {},
   "outputs": [],
   "source": [
    "c=a*b"
   ]
  },
  {
   "cell_type": "code",
   "execution_count": 7,
   "metadata": {},
   "outputs": [
    {
     "data": {
      "text/plain": [
       "819"
      ]
     },
     "execution_count": 7,
     "metadata": {},
     "output_type": "execute_result"
    }
   ],
   "source": [
    "c"
   ]
  },
  {
   "cell_type": "code",
   "execution_count": 8,
   "metadata": {},
   "outputs": [],
   "source": [
    "name=\"\"\"\n",
    "hi guys this is jupy notebook\n",
    "\"\"\""
   ]
  },
  {
   "cell_type": "code",
   "execution_count": 9,
   "metadata": {},
   "outputs": [
    {
     "data": {
      "text/plain": [
       "'\\nhi guys this is jupy notebook\\n'"
      ]
     },
     "execution_count": 9,
     "metadata": {},
     "output_type": "execute_result"
    }
   ],
   "source": [
    "name"
   ]
  },
  {
   "cell_type": "code",
   "execution_count": 10,
   "metadata": {},
   "outputs": [
    {
     "data": {
      "text/plain": [
       "['\\n',\n",
       " 'h',\n",
       " 'i',\n",
       " ' ',\n",
       " 'g',\n",
       " 'u',\n",
       " 'y',\n",
       " 's',\n",
       " ' ',\n",
       " 't',\n",
       " 'h',\n",
       " 'i',\n",
       " 's',\n",
       " ' ',\n",
       " 'i',\n",
       " 's',\n",
       " ' ',\n",
       " 'j',\n",
       " 'u',\n",
       " 'p',\n",
       " 'y',\n",
       " ' ',\n",
       " 'n',\n",
       " 'o',\n",
       " 't',\n",
       " 'e',\n",
       " 'b',\n",
       " 'o',\n",
       " 'o',\n",
       " 'k',\n",
       " '\\n']"
      ]
     },
     "execution_count": 10,
     "metadata": {},
     "output_type": "execute_result"
    }
   ],
   "source": [
    "les=list(name)\n",
    "les"
   ]
  },
  {
   "cell_type": "code",
   "execution_count": 11,
   "metadata": {},
   "outputs": [
    {
     "data": {
      "text/plain": [
       "['d', 'a', 'r', 'l', 'i', 'n', 'g']"
      ]
     },
     "execution_count": 11,
     "metadata": {},
     "output_type": "execute_result"
    }
   ],
   "source": [
    "name2=\"darling\"\n",
    "fun2=list(name2)\n",
    "fun2"
   ]
  },
  {
   "cell_type": "code",
   "execution_count": 12,
   "metadata": {},
   "outputs": [
    {
     "data": {
      "text/plain": [
       "'dl'"
      ]
     },
     "execution_count": 12,
     "metadata": {},
     "output_type": "execute_result"
    }
   ],
   "source": [
    "name2[4:]\n",
    "name2[0:5:3]"
   ]
  },
  {
   "cell_type": "code",
   "execution_count": 13,
   "metadata": {},
   "outputs": [
    {
     "data": {
      "text/plain": [
       "False"
      ]
     },
     "execution_count": 13,
     "metadata": {},
     "output_type": "execute_result"
    }
   ],
   "source": [
    "'arl' in name2\n",
    "'ing' not in name2"
   ]
  },
  {
   "cell_type": "code",
   "execution_count": 14,
   "metadata": {},
   "outputs": [
    {
     "data": {
      "text/plain": [
       "'  hi darling'"
      ]
     },
     "execution_count": 14,
     "metadata": {},
     "output_type": "execute_result"
    }
   ],
   "source": [
    "name3=\"  hi\"\n",
    "concat=name3+\" \"+name2\n",
    "concat"
   ]
  },
  {
   "cell_type": "code",
   "execution_count": 15,
   "metadata": {},
   "outputs": [
    {
     "data": {
      "text/plain": [
       "' arjun buys 3 items from a shop and he has 2800RS . The total bill was 1000RS'"
      ]
     },
     "execution_count": 15,
     "metadata": {},
     "output_type": "execute_result"
    }
   ],
   "source": [
    "name.capitalize()\n",
    "name.count('v')\n",
    "# split - makes a list from the long string\n",
    "name.split()\n",
    "# strip is used to remove white spaces at start and end\n",
    "name.strip\n",
    "# format makes a long string or a sentence active as below . we can use values to giev in a srting\n",
    "money=2800\n",
    "items=3\n",
    "total=1000\n",
    "sentence=\" arjun buys {} items from a shop and he has {}RS . The total bill was {}RS\"\n",
    "sentence.format(items,money,total)"
   ]
  },
  {
   "cell_type": "code",
   "execution_count": 16,
   "metadata": {},
   "outputs": [
    {
     "data": {
      "text/plain": [
       "' arjun buys 3 items from a shop and he has2800RS . The total bill was 1000RS'"
      ]
     },
     "execution_count": 16,
     "metadata": {},
     "output_type": "execute_result"
    }
   ],
   "source": [
    "#  without using format method \n",
    "snet=sentence=\" arjun buys \"+ str(items) +\" items from a shop and he has\" + str(money) +\"RS . The total bill was \" + str(total) + \"RS\"\n",
    "snet"
   ]
  },
  {
   "cell_type": "code",
   "execution_count": 17,
   "metadata": {},
   "outputs": [
    {
     "data": {
      "text/plain": [
       "True"
      ]
     },
     "execution_count": 17,
     "metadata": {},
     "output_type": "execute_result"
    }
   ],
   "source": [
    "name==\"me\"\n",
    "name!=\"me\""
   ]
  },
  {
   "cell_type": "code",
   "execution_count": 18,
   "metadata": {},
   "outputs": [
    {
     "data": {
      "text/plain": [
       "['hi', 'guys', 'this', 'is', 'jupy', 'notebook']"
      ]
     },
     "execution_count": 18,
     "metadata": {},
     "output_type": "execute_result"
    }
   ],
   "source": [
    "list=name.split()\n",
    "list"
   ]
  },
  {
   "cell_type": "code",
   "execution_count": 19,
   "metadata": {},
   "outputs": [
    {
     "data": {
      "text/plain": [
       "['name',\n",
       " 29,\n",
       " 'think',\n",
       " ['hi', 'guys', 'this', 'is', 'jupy', 'notebook'],\n",
       " 2,\n",
       " 4,\n",
       " 'soul',\n",
       " 'heaven',\n",
       " 666]"
      ]
     },
     "execution_count": 19,
     "metadata": {},
     "output_type": "execute_result"
    }
   ],
   "source": [
    "list2=['name',29,'think',list,2,4,'soul','heaven',666]\n",
    "list2"
   ]
  },
  {
   "cell_type": "markdown",
   "metadata": {},
   "source": [
    "remove and pop perform same task but in different way \n",
    "remove - takes the element to remove the element from the list \n",
    "pop - takes the index of the element to remove the element"
   ]
  },
  {
   "cell_type": "code",
   "execution_count": 20,
   "metadata": {},
   "outputs": [
    {
     "data": {
      "text/plain": [
       "['name',\n",
       " 29,\n",
       " 'think',\n",
       " ['hi', 'guys', 'this', 'is', 'jupy', 'notebook'],\n",
       " 2,\n",
       " 4,\n",
       " 'soul',\n",
       " 'heaven',\n",
       " 666,\n",
       " 'hello']"
      ]
     },
     "execution_count": 20,
     "metadata": {},
     "output_type": "execute_result"
    }
   ],
   "source": [
    "len(list)\n",
    "len(list2)\n",
    "list2[3]\n",
    "list[-1]\n",
    "list[-6:-1:2]\n",
    "# list2.append(20)\n",
    "# list2.remove(666)\n",
    "# pop takes index and removes the vakue in the index whereas remove takes the value to remove\n",
    "# list2.pop()\n",
    "list3=list2+[\"hello\"]\n",
    "list3"
   ]
  },
  {
   "cell_type": "markdown",
   "metadata": {},
   "source": [
    "As the string has the operator \" in \" and \" not in \"  the list also use the operator which behaves same as with strings .\n",
    "And also a LIST can use the concatination to add lists to lists using .\n",
    "While using in and not in operators with lists one has to use the same exact element to check . "
   ]
  },
  {
   "cell_type": "code",
   "execution_count": 21,
   "metadata": {},
   "outputs": [
    {
     "data": {
      "text/plain": [
       "['name',\n",
       " 29,\n",
       " 'think',\n",
       " ['hi', 'guys', 'this', 'is', 'jupy', 'notebook'],\n",
       " 2,\n",
       " 4,\n",
       " 'soul',\n",
       " 'heaven',\n",
       " 666,\n",
       " 'hello']"
      ]
     },
     "execution_count": 21,
     "metadata": {},
     "output_type": "execute_result"
    }
   ],
   "source": [
    "list4=list3.copy()\n",
    "list4"
   ]
  },
  {
   "cell_type": "markdown",
   "metadata": {},
   "source": [
    "copy() is used to make a copy of a list where we can perform operations with the copied list which doesn't effect the parent list or the main list ."
   ]
  },
  {
   "cell_type": "code",
   "execution_count": 22,
   "metadata": {},
   "outputs": [
    {
     "data": {
      "text/plain": [
       "['nakul', 'karna', 'durryodhan', 'bheem', 'arjun']"
      ]
     },
     "execution_count": 22,
     "metadata": {},
     "output_type": "execute_result"
    }
   ],
   "source": [
    "names=[\"karna\",\"arjun\",\"bheem\",\"durryodhan\",\"nakul\"]\n",
    "sort1=names.sort()\n",
    "names\n",
    "reverse=names.sort(reverse=True)\n",
    "names"
   ]
  },
  {
   "cell_type": "markdown",
   "metadata": {},
   "source": [
    "sort() is the method used on lists to sort the lements in the list in alpha wise or numerical \n",
    "by default it results in ascending order but we can specify to descending order by giving reverse = True"
   ]
  },
  {
   "cell_type": "code",
   "execution_count": 23,
   "metadata": {},
   "outputs": [
    {
     "data": {
      "text/plain": [
       "False"
      ]
     },
     "execution_count": 23,
     "metadata": {},
     "output_type": "execute_result"
    }
   ],
   "source": [
    "# TUPLES\n",
    "tuple=('hi','guys','this','is','desktop')\n",
    "'hi' in tuple\n",
    "'is' not in tuple"
   ]
  },
  {
   "cell_type": "markdown",
   "metadata": {},
   "source": [
    "tuples are same as lists but they are immutable by default means when we want a list which is not modified by anyone then we can use a \n",
    "tuple . it has only 2 methods count and index ."
   ]
  },
  {
   "cell_type": "code",
   "execution_count": 24,
   "metadata": {},
   "outputs": [],
   "source": [
    "#  DICTIONARY\n",
    "dict1={'name':\"darling\" , 'age':46 , 'number':8738}"
   ]
  },
  {
   "cell_type": "code",
   "execution_count": 25,
   "metadata": {},
   "outputs": [
    {
     "data": {
      "text/plain": [
       "dict_values(['darling', 46, 8738, 12000])"
      ]
     },
     "execution_count": 25,
     "metadata": {},
     "output_type": "execute_result"
    }
   ],
   "source": [
    "dict1['name']\n",
    "dict1['age']\n",
    "dict1.get('job',\"Unknown\")\n",
    "dict1['salary']=12000\n",
    "#  Dict methods \n",
    "dict1.keys()\n",
    "dict1.items()\n",
    "dict1.values()\n"
   ]
  },
  {
   "cell_type": "markdown",
   "metadata": {},
   "source": [
    "we can use in and not in in dictionaries .\n",
    "pop is used to remove a key by taking the valueas an argument .\n"
   ]
  },
  {
   "cell_type": "code",
   "execution_count": 26,
   "metadata": {},
   "outputs": [
    {
     "name": "stdout",
     "output_type": "stream",
     "text": [
      "the number 4 is even\n"
     ]
    }
   ],
   "source": [
    "# Conditional statements in python \n",
    "# If branching\n",
    "a=4\n",
    "if a%2==0 :\n",
    "    print(\"the number {} is even\".format(a))"
   ]
  },
  {
   "cell_type": "markdown",
   "metadata": {},
   "source": [
    "                                                                     CONDITIONAL STATEMENTS\n",
    " if - checks the condition ginen and executes the statements written in if \n",
    " else - executes the statements when the condition in if is false\n",
    " elif - it used to check several conditions and get the required output\n",
    " We can play with lists , tuples and dictionaries in CONDITIONAL STATEMENTS like \n",
    " by checking value is in the list/tuple not by using \" in \" and \" not in \" \n",
    " by using value key items functios of dictionaries we can check the value/key is present i dict "
   ]
  },
  {
   "cell_type": "code",
   "execution_count": 27,
   "metadata": {},
   "outputs": [
    {
     "name": "stdout",
     "output_type": "stream",
     "text": [
      "18 is even\n"
     ]
    }
   ],
   "source": [
    "num=18\n",
    "if num%2==0 :\n",
    "    print(\"{} is even\".format(num))\n",
    "else :\n",
    "    print(\"{} is odd\".format(num))"
   ]
  },
  {
   "cell_type": "code",
   "execution_count": 28,
   "metadata": {},
   "outputs": [
    {
     "name": "stdout",
     "output_type": "stream",
     "text": [
      "thursday is in the list\n"
     ]
    }
   ],
   "source": [
    "days=['monday','tuesday','wednesday','thursday','friday','saturday','sunday']\n",
    "day='thursday'\n",
    "if day in days :\n",
    "    print('{} is in the list'.format(day))\n",
    "else :\n",
    "    print('invalid day entered ...')"
   ]
  },
  {
   "cell_type": "code",
   "execution_count": 29,
   "metadata": {},
   "outputs": [
    {
     "name": "stdout",
     "output_type": "stream",
     "text": [
      "day is thursday\n"
     ]
    }
   ],
   "source": [
    "if day=='monday' :\n",
    "    print('today is monday')\n",
    "elif day=='tuesday':\n",
    "    print('day is tuesday')\n",
    "elif day=='wednesday' :\n",
    "    print('day is wednesday')\n",
    "elif day=='thursday' :\n",
    "    print('day is thursday')\n",
    "elif day=='friday' :\n",
    "    print('day is friday')\n",
    "elif day=='saturday' :\n",
    "    print('day is saturday')\n",
    "elif day=='sunday' :\n",
    "    print('day is sunday')\n",
    "else :\n",
    "    print('invalid input / enter a valid day ')"
   ]
  },
  {
   "cell_type": "code",
   "execution_count": 30,
   "metadata": {},
   "outputs": [
    {
     "name": "stdout",
     "output_type": "stream",
     "text": [
      "18 is even\n"
     ]
    }
   ],
   "source": [
    "\n",
    "if num%2==0 :\n",
    "    print('{} is even'.format(num))\n",
    "elif num%3==0 :\n",
    "    print('{} is divisible by 3 ')\n",
    "elif num%5==0 :\n",
    "    print('{} is divisible by 6')"
   ]
  },
  {
   "cell_type": "code",
   "execution_count": 31,
   "metadata": {},
   "outputs": [
    {
     "name": "stdout",
     "output_type": "stream",
     "text": [
      "18 is divisible by both 2 and 3 \n"
     ]
    }
   ],
   "source": [
    "\n",
    "if num%2==0 and num%3==0 :\n",
    "    print('{} is divisible by both 2 and 3 '.format(num))\n",
    "elif not num%5==0 :\n",
    "\n",
    "    print('{} is not divisible by 2 , 3 and 5'.format(num))"
   ]
  },
  {
   "cell_type": "code",
   "execution_count": 32,
   "metadata": {},
   "outputs": [
    {
     "name": "stdout",
     "output_type": "stream",
     "text": [
      "18 is even\n",
      "18 is divisible by 3\n"
     ]
    }
   ],
   "source": [
    "if num%2==0 :\n",
    "    print('{} is even'.format(num))\n",
    "    if num%3==0 :\n",
    "        print('{} is divisible by 3'.format(num))\n",
    "    else :\n",
    "        print('{} is not divisible by 3'.format(num))\n",
    "else :\n",
    "    print('{} is not even'.format(num))\n",
    "    if num%5==0 :\n",
    "        print('{} is divisible by 5'.format(num))\n",
    "    else :\n",
    "        print('{} is not divisible by 5'.format(num))"
   ]
  },
  {
   "cell_type": "code",
   "execution_count": 33,
   "metadata": {},
   "outputs": [
    {
     "name": "stdout",
     "output_type": "stream",
     "text": [
      "18 is even\n"
     ]
    }
   ],
   "source": [
    "#  SHORTHAND CONDITIONING \n",
    "if num%2==0 :\n",
    "    b='even'\n",
    "else :\n",
    "    b='odd'\n",
    "print('{} is {}'.format(num,b))"
   ]
  },
  {
   "cell_type": "code",
   "execution_count": 34,
   "metadata": {},
   "outputs": [
    {
     "name": "stdout",
     "output_type": "stream",
     "text": [
      "fact of 18 is 6402373705728000\n",
      "CPU times: total: 0 ns\n",
      "Wall time: 1 ms\n"
     ]
    }
   ],
   "source": [
    "%%time\n",
    "fact=1\n",
    "i=1\n",
    "while i<=num :\n",
    "    fact=fact*i\n",
    "    i+=1\n",
    "print('fact of {} is {}'.format(num,fact))\n",
    "\n"
   ]
  },
  {
   "cell_type": "code",
   "execution_count": 35,
   "metadata": {},
   "outputs": [
    {
     "name": "stdout",
     "output_type": "stream",
     "text": [
      "O\n",
      "OO\n",
      "OOO\n",
      "OOOO\n",
      "OOOOO\n",
      "OOOOOO\n",
      "OOOOOOO\n",
      "OOOOOOOO\n",
      "OOOOOOOOO\n",
      "OOOOOOOO\n"
     ]
    }
   ],
   "source": [
    "pat='O'\n",
    "range=8\n",
    "while len(pat)<=range :\n",
    "    print(pat)\n",
    "    pat+='O'\n",
    "while len(pat)>=range :\n",
    "    print(pat)\n",
    "    pat=pat[:-1]"
   ]
  },
  {
   "cell_type": "code",
   "execution_count": 36,
   "metadata": {},
   "outputs": [
    {
     "name": "stdout",
     "output_type": "stream",
     "text": [
      "15 reached\n",
      "15\n",
      "fact of 15 is 1307674368000\n",
      "CPU times: total: 0 ns\n",
      "Wall time: 0 ns\n"
     ]
    }
   ],
   "source": [
    "%%time\n",
    "num=25\n",
    "fact=1\n",
    "i=1\n",
    "while i<=num :\n",
    "    fact=fact*i\n",
    "    if i==15 :\n",
    "        print('{} reached'.format(i))\n",
    "        break\n",
    "    i+=1\n",
    "print(i)\n",
    "print('fact of {} is {}'.format(i,fact))\n",
    "\n"
   ]
  },
  {
   "cell_type": "code",
   "execution_count": 37,
   "metadata": {},
   "outputs": [
    {
     "name": "stdout",
     "output_type": "stream",
     "text": [
      "*\n",
      "**\n",
      "***\n",
      "****\n",
      "*****\n",
      "******\n",
      "*******\n",
      "********\n",
      "*********\n",
      "**********\n"
     ]
    }
   ],
   "source": [
    "log='*'\n",
    "limit=10\n",
    "while len(log)<=limit :\n",
    "    print(log)\n",
    "    log=log+'*'\n"
   ]
  },
  {
   "cell_type": "code",
   "execution_count": 38,
   "metadata": {},
   "outputs": [
    {
     "name": "stdout",
     "output_type": "stream",
     "text": [
      "skipped 2\n",
      "adding with 3 \n",
      "skipped 4\n",
      "adding with 5 \n",
      "skipped 6\n",
      "adding with 7 \n",
      "skipped 8\n",
      "adding with 9 \n",
      "skipped 10\n",
      "adding with 11 \n",
      "fact 35\n",
      "i 11\n"
     ]
    }
   ],
   "source": [
    "i=1\n",
    "fact=0\n",
    "while i<=limit :\n",
    "    i+=1\n",
    "    if i%2==0 :\n",
    "        print('skipped {}'.format(i))\n",
    "        continue\n",
    "    print('adding with {} '.format(i))\n",
    "    fact=fact+i\n",
    "print('fact',fact)\n",
    "print('i',i)\n"
   ]
  },
  {
   "cell_type": "markdown",
   "metadata": {},
   "source": [
    " FOR loop\n",
    "it is used whe we want to print some piece of code several times in sequence"
   ]
  },
  {
   "cell_type": "code",
   "execution_count": 39,
   "metadata": {},
   "outputs": [
    {
     "name": "stdout",
     "output_type": "stream",
     "text": [
      "monday\n",
      "tuesday\n",
      "wednesday\n",
      "thursday\n",
      "friday\n",
      "saturday\n",
      "sunday\n"
     ]
    }
   ],
   "source": [
    "for day in days :\n",
    "    print(day)"
   ]
  },
  {
   "cell_type": "code",
   "execution_count": 42,
   "metadata": {},
   "outputs": [
    {
     "name": "stdout",
     "output_type": "stream",
     "text": [
      "key : name , value : , darling\n",
      "name\n",
      "key : age , value : , 46\n",
      "age\n",
      "key : number , value : , 8738\n",
      "number\n",
      "key : salary , value : , 12000\n",
      "salary\n"
     ]
    }
   ],
   "source": [
    "for key in dict1 :\n",
    "    print('key :',key,',','value :',',',dict1[key])\n",
    "    print(key)"
   ]
  },
  {
   "cell_type": "code",
   "execution_count": 44,
   "metadata": {},
   "outputs": [
    {
     "name": "stdout",
     "output_type": "stream",
     "text": [
      "hi\n",
      "guys\n",
      "this\n",
      "is\n",
      "jupy\n",
      "notebook\n"
     ]
    }
   ],
   "source": [
    "\n",
    "for i in list :\n",
    "    print(i)"
   ]
  },
  {
   "cell_type": "code",
   "execution_count": null,
   "metadata": {},
   "outputs": [],
   "source": [
    "leng"
   ]
  },
  {
   "cell_type": "code",
   "execution_count": 45,
   "metadata": {},
   "outputs": [
    {
     "name": "stdout",
     "output_type": "stream",
     "text": [
      "name\n",
      "age\n",
      "number\n",
      "salary\n"
     ]
    }
   ],
   "source": [
    "for value in dict1 :\n",
    "    print(value)"
   ]
  },
  {
   "cell_type": "code",
   "execution_count": 52,
   "metadata": {},
   "outputs": [
    {
     "ename": "TypeError",
     "evalue": "'int' object is not callable",
     "output_type": "error",
     "traceback": [
      "\u001b[1;31m---------------------------------------------------------------------------\u001b[0m",
      "\u001b[1;31mTypeError\u001b[0m                                 Traceback (most recent call last)",
      "Cell \u001b[1;32mIn[52], line 1\u001b[0m\n\u001b[1;32m----> 1\u001b[0m \u001b[38;5;28;01mfor\u001b[39;00m j \u001b[38;5;129;01min\u001b[39;00m \u001b[38;5;28;43mrange\u001b[39;49m\u001b[43m(\u001b[49m\u001b[38;5;241;43m0\u001b[39;49m\u001b[43m,\u001b[49m\u001b[38;5;241;43m7\u001b[39;49m\u001b[43m)\u001b[49m :\n\u001b[0;32m      2\u001b[0m     \u001b[38;5;28;01mfor\u001b[39;00m i \u001b[38;5;129;01min\u001b[39;00m \u001b[38;5;28mlist\u001b[39m :\n\u001b[0;32m      3\u001b[0m         \u001b[38;5;28mprint\u001b[39m(\u001b[38;5;124m'\u001b[39m\u001b[38;5;124mvalue at \u001b[39m\u001b[38;5;132;01m{}\u001b[39;00m\u001b[38;5;124m is \u001b[39m\u001b[38;5;132;01m{}\u001b[39;00m\u001b[38;5;124m \u001b[39m\u001b[38;5;124m'\u001b[39m\u001b[38;5;241m.\u001b[39mformat(j,i))\n",
      "\u001b[1;31mTypeError\u001b[0m: 'int' object is not callable"
     ]
    }
   ],
   "source": [
    "\n",
    "for i in list :\n",
    "    for j in range(0,7) :\n",
    "        print('value at {} is {} '.format(j,i))"
   ]
  },
  {
   "cell_type": "code",
   "execution_count": 53,
   "metadata": {},
   "outputs": [
    {
     "name": "stdout",
     "output_type": "stream",
     "text": [
      "monday\n",
      "tuesday\n",
      "wednesday\n",
      "thursday\n",
      "friday\n",
      "saturday\n",
      "sunday\n"
     ]
    }
   ],
   "source": [
    "for day in days :\n",
    "    print(day)"
   ]
  },
  {
   "cell_type": "code",
   "execution_count": 55,
   "metadata": {},
   "outputs": [
    {
     "ename": "TypeError",
     "evalue": "'int' object is not callable",
     "output_type": "error",
     "traceback": [
      "\u001b[1;31m---------------------------------------------------------------------------\u001b[0m",
      "\u001b[1;31mTypeError\u001b[0m                                 Traceback (most recent call last)",
      "Cell \u001b[1;32mIn[55], line 1\u001b[0m\n\u001b[1;32m----> 1\u001b[0m \u001b[38;5;28;01mfor\u001b[39;00m i \u001b[38;5;129;01min\u001b[39;00m \u001b[38;5;28;43mrange\u001b[39;49m\u001b[43m(\u001b[49m\u001b[38;5;241;43m3\u001b[39;49m\u001b[43m,\u001b[49m\u001b[38;5;241;43m10\u001b[39;49m\u001b[43m)\u001b[49m :\n\u001b[0;32m      2\u001b[0m     \u001b[38;5;28mprint\u001b[39m(i)\n",
      "\u001b[1;31mTypeError\u001b[0m: 'int' object is not callable"
     ]
    }
   ],
   "source": [
    "for i in range(3,10) :\n",
    "    print(i)"
   ]
  },
  {
   "cell_type": "code",
   "execution_count": 56,
   "metadata": {},
   "outputs": [
    {
     "ename": "TypeError",
     "evalue": "'int' object is not callable",
     "output_type": "error",
     "traceback": [
      "\u001b[1;31m---------------------------------------------------------------------------\u001b[0m",
      "\u001b[1;31mTypeError\u001b[0m                                 Traceback (most recent call last)",
      "Cell \u001b[1;32mIn[56], line 1\u001b[0m\n\u001b[1;32m----> 1\u001b[0m \u001b[38;5;28;01mfor\u001b[39;00m i \u001b[38;5;129;01min\u001b[39;00m \u001b[38;5;28;43mrange\u001b[39;49m\u001b[43m(\u001b[49m\u001b[38;5;241;43m3\u001b[39;49m\u001b[43m)\u001b[49m :\n\u001b[0;32m      2\u001b[0m     \u001b[38;5;28mprint\u001b[39m(i)\n",
      "\u001b[1;31mTypeError\u001b[0m: 'int' object is not callable"
     ]
    }
   ],
   "source": [
    "for i in range(3) :\n",
    "    print(i)"
   ]
  },
  {
   "cell_type": "code",
   "execution_count": 57,
   "metadata": {},
   "outputs": [
    {
     "ename": "TypeError",
     "evalue": "'int' object is not callable",
     "output_type": "error",
     "traceback": [
      "\u001b[1;31m---------------------------------------------------------------------------\u001b[0m",
      "\u001b[1;31mTypeError\u001b[0m                                 Traceback (most recent call last)",
      "Cell \u001b[1;32mIn[57], line 1\u001b[0m\n\u001b[1;32m----> 1\u001b[0m \u001b[38;5;28;01mfor\u001b[39;00m i \u001b[38;5;129;01min\u001b[39;00m \u001b[38;5;28;43mrange\u001b[39;49m\u001b[43m(\u001b[49m\u001b[38;5;241;43m3\u001b[39;49m\u001b[43m,\u001b[49m\u001b[38;5;241;43m10\u001b[39;49m\u001b[43m,\u001b[49m\u001b[38;5;241;43m2\u001b[39;49m\u001b[43m)\u001b[49m :\n\u001b[0;32m      2\u001b[0m     \u001b[38;5;28mprint\u001b[39m(i)\n",
      "\u001b[1;31mTypeError\u001b[0m: 'int' object is not callable"
     ]
    }
   ],
   "source": [
    "for i in range(3,10,2) :\n",
    "    print(i)"
   ]
  },
  {
   "cell_type": "code",
   "execution_count": 58,
   "metadata": {},
   "outputs": [
    {
     "name": "stdout",
     "output_type": "stream",
     "text": [
      "monday\n",
      "tuesday\n",
      "day is wednesday\n",
      "thursday\n",
      "friday\n",
      "saturday\n",
      "sunday\n"
     ]
    }
   ],
   "source": [
    "for day in days :\n",
    "    if day=='wednesday':\n",
    "        print('day is {}'.format(day))\n",
    "        continue\n",
    "    print(day)"
   ]
  },
  {
   "cell_type": "code",
   "execution_count": 59,
   "metadata": {},
   "outputs": [],
   "source": [
    "def add(a,b) :\n",
    "    sum=a+b\n",
    "    print('addtion of {} and {} is {}'.format(a,b,sum))"
   ]
  },
  {
   "cell_type": "code",
   "execution_count": 60,
   "metadata": {},
   "outputs": [
    {
     "name": "stdout",
     "output_type": "stream",
     "text": [
      "addtion of 2 and 4 is 6\n"
     ]
    }
   ],
   "source": [
    "add(2,4)"
   ]
  },
  {
   "cell_type": "code",
   "execution_count": 63,
   "metadata": {},
   "outputs": [],
   "source": [
    "def table(a) :\n",
    "    for i in range(10) :\n",
    "        mul=a*i\n",
    "        print(a,'X',i,'=',mul)"
   ]
  },
  {
   "cell_type": "code",
   "execution_count": 64,
   "metadata": {},
   "outputs": [
    {
     "ename": "TypeError",
     "evalue": "'int' object is not callable",
     "output_type": "error",
     "traceback": [
      "\u001b[1;31m---------------------------------------------------------------------------\u001b[0m",
      "\u001b[1;31mTypeError\u001b[0m                                 Traceback (most recent call last)",
      "Cell \u001b[1;32mIn[64], line 1\u001b[0m\n\u001b[1;32m----> 1\u001b[0m \u001b[43mtable\u001b[49m\u001b[43m(\u001b[49m\u001b[38;5;241;43m9\u001b[39;49m\u001b[43m)\u001b[49m\n",
      "Cell \u001b[1;32mIn[63], line 2\u001b[0m, in \u001b[0;36mtable\u001b[1;34m(a)\u001b[0m\n\u001b[0;32m      1\u001b[0m \u001b[38;5;28;01mdef\u001b[39;00m \u001b[38;5;21mtable\u001b[39m(a) :\n\u001b[1;32m----> 2\u001b[0m     \u001b[38;5;28;01mfor\u001b[39;00m i \u001b[38;5;129;01min\u001b[39;00m \u001b[38;5;28;43mrange\u001b[39;49m\u001b[43m(\u001b[49m\u001b[38;5;241;43m10\u001b[39;49m\u001b[43m)\u001b[49m :\n\u001b[0;32m      3\u001b[0m         mul\u001b[38;5;241m=\u001b[39ma\u001b[38;5;241m*\u001b[39mi\n\u001b[0;32m      4\u001b[0m         \u001b[38;5;28mprint\u001b[39m(a,\u001b[38;5;124m'\u001b[39m\u001b[38;5;124mX\u001b[39m\u001b[38;5;124m'\u001b[39m,i,\u001b[38;5;124m'\u001b[39m\u001b[38;5;124m=\u001b[39m\u001b[38;5;124m'\u001b[39m,mul)\n",
      "\u001b[1;31mTypeError\u001b[0m: 'int' object is not callable"
     ]
    }
   ],
   "source": [
    "table(9)"
   ]
  },
  {
   "cell_type": "code",
   "execution_count": null,
   "metadata": {},
   "outputs": [],
   "source": []
  }
 ],
 "metadata": {
  "kernelspec": {
   "display_name": "Python 3 (ipykernel)",
   "language": "python",
   "name": "python3"
  },
  "language_info": {
   "codemirror_mode": {
    "name": "ipython",
    "version": 3
   },
   "file_extension": ".py",
   "mimetype": "text/x-python",
   "name": "python",
   "nbconvert_exporter": "python",
   "pygments_lexer": "ipython3",
   "version": "3.11.6"
  }
 },
 "nbformat": 4,
 "nbformat_minor": 4
}
